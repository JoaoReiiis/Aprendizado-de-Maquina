{
 "cells": [
  {
   "cell_type": "code",
   "execution_count": null,
   "id": "09b85b81",
   "metadata": {},
   "outputs": [],
   "source": [
    "import spacy\n",
    "\n",
    "#carregar o modelo spacy\n",
    "nlp = spacy.load(\"en_core_web_sm\")\n",
    "with open (\"dados/wiki_us.txt\", \"r\")  as f:\n",
    "    text = f.read()"
   ]
  },
  {
   "cell_type": "code",
   "execution_count": null,
   "id": "c3a4d2f2",
   "metadata": {},
   "outputs": [],
   "source": []
  },
  {
   "cell_type": "code",
   "execution_count": null,
   "id": "5a153967",
   "metadata": {},
   "outputs": [],
   "source": [
    "print (text)"
   ]
  },
  {
   "cell_type": "code",
   "execution_count": null,
   "id": "a73d94e6",
   "metadata": {},
   "outputs": [],
   "source": [
    "# Serpara o texto em tokens\n",
    "doc = nlp(text)\n",
    "print(doc)\n"
   ]
  },
  {
   "cell_type": "code",
   "execution_count": null,
   "id": "752c756b",
   "metadata": {},
   "outputs": [],
   "source": [
    "\n",
    "print(len(text))\n",
    "print(len(doc))\n",
    "\n",
    "print(\"Texto puro, separado em caracteres:\")\n",
    "for token in text[:10]:\n",
    "    print (token)\n",
    "\n",
    "print(\"\\nTexto separado por tokens:\")\n",
    "for token in doc[:10]:\n",
    "    print(token)\n",
    "\n",
    "print(\"\\nTexto apenas com split:\")\n",
    "for token in text.split()[:10]:\n",
    "    print(token)\n",
    "\n",
    "print(\"Onde possui caracteres como () ou , o texto nao fica separado corretamente\")\n"
   ]
  },
  {
   "cell_type": "code",
   "execution_count": null,
   "id": "ac1fe205",
   "metadata": {},
   "outputs": [],
   "source": [
    "print(\"Divide o texto em frase:\")\n",
    "for sent in doc.sents:\n",
    "    print(sent)\n",
    "\n",
    "# iteravel\n",
    "sent1 = list(doc.sents)[0]\n",
    "print (sent1)"
   ]
  },
  {
   "cell_type": "code",
   "execution_count": null,
   "id": "9c753974",
   "metadata": {},
   "outputs": [],
   "source": [
    "text = \"Mike enjoys play videogames.\"\n",
    "doc2 = nlp(text)\n",
    "\n",
    "for token in doc2:\n",
    "    print(token.text, token.pos_, token.dep_)"
   ]
  },
  {
   "cell_type": "code",
   "execution_count": null,
   "id": "ea3fcf78",
   "metadata": {},
   "outputs": [],
   "source": [
    "for ent in doc.ents:\n",
    "    print (ent.text, ent.label_)"
   ]
  },
  {
   "cell_type": "code",
   "execution_count": null,
   "id": "4d9d9804",
   "metadata": {},
   "outputs": [],
   "source": [
    "from spacy import displacy\n",
    "from IPython.display import display, HTML\n",
    "\n",
    "\n",
    "html = displacy.render(doc, style=\"ent\", jupyter=False)\n",
    "#print (html)\n",
    "display(HTML(html))\n"
   ]
  },
  {
   "cell_type": "code",
   "execution_count": null,
   "id": "0e9ffcf7",
   "metadata": {},
   "outputs": [],
   "source": [
    "nlp = spacy.load(\"en_core_web_md\")\n",
    "with open(\"dados/wiki_us.txt\") as f:\n",
    "    text = f.read()\n",
    "\n",
    "doc = nlp(text)\n",
    "sentence1 = list(doc.sents)[0]\n",
    "print (sentence1)"
   ]
  },
  {
   "cell_type": "code",
   "execution_count": null,
   "id": "c87e388b",
   "metadata": {},
   "outputs": [],
   "source": [
    "import numpy as np\n",
    "\n",
    "your_word = \"country\"\n",
    "\n",
    "ms = nlp.vocab.vectors.most_similar(\n",
    "    np.asarray([nlp.vocab.vectors[nlp.vocab.strings[your_word]]]), n=10)\n",
    "words = [nlp.vocab.strings[w] for w in ms[0][0]]\n",
    "distances = ms[2]\n",
    "print(words)"
   ]
  },
  {
   "cell_type": "code",
   "execution_count": null,
   "id": "8b20d7e0",
   "metadata": {},
   "outputs": [],
   "source": [
    "doc1 = nlp(\"I Like french fries with hamburguer.\")\n",
    "doc2 = nlp(\"French fries with hamburguers is very good.\")\n",
    "\n",
    "similaridade1 = doc1.similarity(doc2)\n",
    "\n",
    "print (\"Similaridade 1->2: \", similaridade1)"
   ]
  },
  {
   "cell_type": "code",
   "execution_count": null,
   "id": "a14b8cfc",
   "metadata": {},
   "outputs": [],
   "source": [
    "nlp = spacy.blank(\"en\")\n",
    "nlp.add_pipe(\"sentencizer\")\n",
    "nlp.analyze_pipes()"
   ]
  },
  {
   "cell_type": "code",
   "execution_count": null,
   "id": "82940772",
   "metadata": {},
   "outputs": [],
   "source": [
    "nlp2 = spacy.load(\"en_core_web_sm\")\n",
    "nlp2.analyze_pipes()\n"
   ]
  },
  {
   "cell_type": "code",
   "execution_count": null,
   "id": "96b6f3fa",
   "metadata": {},
   "outputs": [],
   "source": [
    "nlp = spacy.load(\"en_core_web_sm\")\n",
    "text = \"West Chestertenfieldville was referenced in Mr. Deeds.\"\n",
    "\n",
    "doc = nlp(text)\n",
    "for ent in doc.ents:\n",
    "    print (ent.text, ent.label_)"
   ]
  },
  {
   "cell_type": "code",
   "execution_count": null,
   "id": "281c8f51",
   "metadata": {},
   "outputs": [],
   "source": [
    "ruler = nlp.add_pipe(\"entity_ruler\")\n",
    "nlp.analyze_pipes()"
   ]
  },
  {
   "cell_type": "code",
   "execution_count": null,
   "id": "34da3cdd",
   "metadata": {},
   "outputs": [],
   "source": [
    "patterns = [\n",
    "    {\"label\": \"GPE\", \"pattern\": \"West Chestertenfieldville\"}\n",
    "]\n",
    "ruler.add_patterns(patterns)"
   ]
  },
  {
   "cell_type": "code",
   "execution_count": null,
   "id": "0c781cde",
   "metadata": {},
   "outputs": [],
   "source": [
    "doc2 = nlp(text)\n",
    "for ent in doc2.ents:\n",
    "    print(ent.text, ent.label_)"
   ]
  },
  {
   "cell_type": "code",
   "execution_count": null,
   "id": "2714a6cc",
   "metadata": {},
   "outputs": [],
   "source": [
    "nlp2 = spacy.load(\"en_core_web_sm\")\n",
    "ruler = nlp2.add_pipe(\"entity_ruler\", before=\"ner\")\n",
    "ruler.add_patterns(patterns)\n",
    "\n",
    "doc = nlp2(text)\n",
    "\n",
    "for ent in doc2.ents:\n",
    "    print  (ent.text, ent.label_)\n",
    "\n",
    "nlp2.analyze_pipes()"
   ]
  },
  {
   "cell_type": "code",
   "execution_count": null,
   "id": "46882bb1",
   "metadata": {},
   "outputs": [],
   "source": [
    "nlp3 = spacy.load(\"en_core_web_sm\")\n",
    "ruler = nlp3.add_pipe(\"entity_ruler\", before=\"ner\")\n",
    "patterns = [\n",
    "    {\"label\": \"GPE\", \"pattern\": \"West Chestertenfieldville\"},\n",
    "    {\"label\": \"FILM\", \"pattern\": \"Mr. Deeds\"}\n",
    "]\n",
    "ruler.add_patterns(patterns)"
   ]
  },
  {
   "cell_type": "code",
   "execution_count": null,
   "id": "f6a1da5d",
   "metadata": {},
   "outputs": [],
   "source": [
    "doc = nlp3(text)\n",
    "for ent in doc.ents:\n",
    "    print(ent.text, ent.label_)"
   ]
  }
 ],
 "metadata": {
  "kernelspec": {
   "display_name": ".venv",
   "language": "python",
   "name": "python3"
  },
  "language_info": {
   "codemirror_mode": {
    "name": "ipython",
    "version": 3
   },
   "file_extension": ".py",
   "mimetype": "text/x-python",
   "name": "python",
   "nbconvert_exporter": "python",
   "pygments_lexer": "ipython3",
   "version": "3.13.5"
  }
 },
 "nbformat": 4,
 "nbformat_minor": 5
}
